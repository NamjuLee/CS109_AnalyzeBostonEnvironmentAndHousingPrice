{
 "cells": [
  {
   "cell_type": "code",
   "execution_count": 1,
   "metadata": {
    "collapsed": true
   },
   "outputs": [],
   "source": [
    "import sys, os, json\n",
    "import glob\n",
    "import pandas as pd\n",
    "import numpy as np"
   ]
  },
  {
   "cell_type": "code",
   "execution_count": 2,
   "metadata": {
    "collapsed": true
   },
   "outputs": [],
   "source": [
    "def OpenJson(path): \n",
    "    json_file = open(path , 'r')\n",
    "    json_str = json_file.read()\n",
    "    json_data = json.loads(json_str)\n",
    "    return json_data\n",
    "def SaveJson(path, data): \n",
    "    with open(path, 'w') as f:\n",
    "        f.write(json.dumps(data, indent=4, ensure_ascii=False, encoding=\"latin1\"))\n",
    "        f.close()"
   ]
  },
  {
   "cell_type": "code",
   "execution_count": 3,
   "metadata": {
    "collapsed": true
   },
   "outputs": [],
   "source": [
    "d = OpenJson(\"_Property_Assessment_2016.json\")"
   ]
  },
  {
   "cell_type": "code",
   "execution_count": 5,
   "metadata": {
    "collapsed": false
   },
   "outputs": [
    {
     "name": "stdout",
     "output_type": "stream",
     "text": [
      "-71.07795266\n",
      "42.27212294\n",
      "-71.09265066\n",
      "42.26879219\n",
      "-71.10309021\n",
      "42.2701646\n",
      "-71.09726628\n",
      "42.2760713\n",
      "-71.09740657\n",
      "42.27784541\n",
      "-71.10814943\n",
      "42.33542556\n",
      "-71.098235\n",
      "42.32769117\n",
      "-71.10998641\n",
      "42.32983909\n",
      "-71.10950173\n",
      "42.32493645\n",
      "-71.10915836\n",
      "42.32506631\n",
      "-71.09414482\n",
      "42.31448266\n"
     ]
    }
   ],
   "source": [
    "for i, data in enumerate(d):\n",
    "    print data['LONGITUDE']\n",
    "    print data['LATITUDE']\n",
    "    if i > 9: break"
   ]
  },
  {
   "cell_type": "code",
   "execution_count": null,
   "metadata": {
    "collapsed": true
   },
   "outputs": [],
   "source": []
  }
 ],
 "metadata": {
  "kernelspec": {
   "display_name": "Python 2",
   "language": "python",
   "name": "python2"
  },
  "language_info": {
   "codemirror_mode": {
    "name": "ipython",
    "version": 2
   },
   "file_extension": ".py",
   "mimetype": "text/x-python",
   "name": "python",
   "nbconvert_exporter": "python",
   "pygments_lexer": "ipython2",
   "version": "2.7.11"
  }
 },
 "nbformat": 4,
 "nbformat_minor": 1
}
